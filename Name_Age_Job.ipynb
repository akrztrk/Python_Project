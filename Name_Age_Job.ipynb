{
 "cells": [
  {
   "cell_type": "code",
   "execution_count": 1,
   "metadata": {},
   "outputs": [],
   "source": [
    "name = input(\"your_name\")\n",
    "age = input(\"your_age\")\n",
    "job = input(\"your_job\")"
   ]
  },
  {
   "cell_type": "code",
   "execution_count": 4,
   "metadata": {},
   "outputs": [
    {
     "name": "stdout",
     "output_type": "stream",
     "text": [
      "akar is 37 years old and works as a data scientist.\n"
     ]
    }
   ],
   "source": [
    "print(f\"{name} is {age} years old and works as a {job}.\" )"
   ]
  },
  {
   "cell_type": "code",
   "execution_count": 6,
   "metadata": {},
   "outputs": [
    {
     "name": "stdout",
     "output_type": "stream",
     "text": [
      "name: akar\n",
      "age: 37\n",
      "job: data scientist\n"
     ]
    }
   ],
   "source": [
    "print(\"name: \" + name)\n",
    "print(\"age: \" + age)\n",
    "print(\"job: \" + job)"
   ]
  },
  {
   "cell_type": "code",
   "execution_count": 7,
   "metadata": {},
   "outputs": [
    {
     "name": "stdout",
     "output_type": "stream",
     "text": [
      "name:  akar\n",
      "age:  37\n",
      "job:  data scientist\n"
     ]
    }
   ],
   "source": [
    "per = input(\"Please enter your name, age and jobseperating them with comma\").split(\",\")\n",
    "print(\"name: \" , per[0])\n",
    "print(\"age: \" , per[1])\n",
    "print(\"job: \" , per[2])"
   ]
  },
  {
   "cell_type": "code",
   "execution_count": 8,
   "metadata": {},
   "outputs": [
    {
     "name": "stdout",
     "output_type": "stream",
     "text": [
      "name: akar\n",
      "age: 37\n",
      "job: datascientest\n"
     ]
    }
   ],
   "source": [
    "per = input(\"Please enter your name, age and jobseperating them with comma\").split(\",\")\n",
    "\n",
    "print(f\"name: {per[0]}\\nage: {per[1]}\\njob: {per[2]}\")"
   ]
  }
 ],
 "metadata": {
  "kernelspec": {
   "display_name": "Python 3",
   "language": "python",
   "name": "python3"
  },
  "language_info": {
   "codemirror_mode": {
    "name": "ipython",
    "version": 3
   },
   "file_extension": ".py",
   "mimetype": "text/x-python",
   "name": "python",
   "nbconvert_exporter": "python",
   "pygments_lexer": "ipython3",
   "version": "3.11.3"
  }
 },
 "nbformat": 4,
 "nbformat_minor": 2
}
