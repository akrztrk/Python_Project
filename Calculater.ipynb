{
 "cells": [
  {
   "cell_type": "code",
   "execution_count": 1,
   "id": "3b09c07e",
   "metadata": {
    "pycharm": {
     "name": "#%%\n"
    }
   },
   "outputs": [
    {
     "name": "stdout",
     "output_type": "stream",
     "text": [
      "You have 20075 days, 2860 weeks and 660 months left.\n"
     ]
    }
   ],
   "source": [
    "age = input (\"What is your current age? : \")\n",
    "new_age = int(age)\n",
    "day = (90-new_age)*365\n",
    "week = (90-new_age)*52\n",
    "month = (90-new_age)*12\n",
    "\n",
    "print(f\"You have {day} days, {week} weeks and {month} months left.\")"
   ]
  },
  {
   "cell_type": "code",
   "execution_count": 2,
   "outputs": [
    {
     "name": "stdout",
     "output_type": "stream",
     "text": [
      "Welcome to the tip calculater!\n",
      "Each person should pay: 32.08\n"
     ]
    }
   ],
   "source": [
    "print(\"Welcome to the tip calculater!\")\n",
    "bill = float(input(\"What was the total bill: \"))\n",
    "tip = int(input(\"What percentage tip would you like to give 10, 12 or 15 \"))\n",
    "people = int(input(\"How many people split the bill \"))\n",
    "bill_with_tip = tip / 100 * bill + bill\n",
    "bill_per_person = bill_with_tip / people\n",
    "final_amount = round(bill_per_person, 2)\n",
    "final_amount = \"{:.2f}\".format(bill_per_person)\n",
    "print(f\"Each person should pay: {final_amount}\")"
   ],
   "metadata": {
    "collapsed": false,
    "pycharm": {
     "name": "#%%\n"
    }
   }
  }
 ],
 "metadata": {
  "kernelspec": {
   "display_name": "Python 3 (ipykernel)",
   "language": "python",
   "name": "python3"
  },
  "language_info": {
   "codemirror_mode": {
    "name": "ipython",
    "version": 3
   },
   "file_extension": ".py",
   "mimetype": "text/x-python",
   "name": "python",
   "nbconvert_exporter": "python",
   "pygments_lexer": "ipython3",
   "version": "3.8.12"
  }
 },
 "nbformat": 4,
 "nbformat_minor": 5
}