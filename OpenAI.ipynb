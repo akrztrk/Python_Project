{
  "cells": [
    {
      "cell_type": "code",
      "execution_count": null,
      "id": "S4I6TMPjD1fT",
      "metadata": {
        "id": "S4I6TMPjD1fT"
      },
      "outputs": [],
      "source": [
        "! pip install openai==0.28"
      ]
    },
    {
      "cell_type": "code",
      "execution_count": 1,
      "id": "f03652e2",
      "metadata": {
        "id": "f03652e2",
        "pycharm": {
          "name": "#%%\n"
        }
      },
      "outputs": [],
      "source": [
        "import openai\n",
        "import os"
      ]
    },
    {
      "cell_type": "code",
      "execution_count": 5,
      "id": "b8fe17da",
      "metadata": {
        "id": "b8fe17da",
        "pycharm": {
          "name": "#%%\n"
        }
      },
      "outputs": [],
      "source": [
        "os.environ[\"OPEN_API_KEY\"]=\"your_API_key\"\n",
        "openai.api_key = os.environ[\"OPEN_API_KEY\"]"
      ]
    },
    {
      "cell_type": "code",
      "execution_count": 6,
      "id": "a1cab442",
      "metadata": {
        "id": "a1cab442",
        "pycharm": {
          "name": "#%%\n"
        }
      },
      "outputs": [],
      "source": [
        "def generate_response (prompt, model, max_tokens=150):\n",
        "    response = openai.Completion.create(engine = model, prompt = prompt, max_tokens = max_tokens,n = 1, stop = None)\n",
        "    message = response.choices[0].text.strip()\n",
        "    return message"
      ]
    },
    {
      "cell_type": "code",
      "execution_count": 8,
      "id": "bc48c4eb",
      "metadata": {
        "colab": {
          "base_uri": "https://localhost:8080/"
        },
        "id": "bc48c4eb",
        "outputId": "63fba71e-eb45-4a06-b0a3-b91bf4b28937",
        "pycharm": {
          "name": "#%%\n"
        },
        "scrolled": false
      },
      "outputs": [
        {
          "name": "stdout",
          "output_type": "stream",
          "text": [
            "standard compared to a standard-ie practice rather will you happen into issues which will not be discovered (at least for a while) as compared to a clean standard-ie practice.\n",
            "\n",
            "While it's \"standard\" in the sense that \"other programmers use it\" doesn't mean other programmers use it for good reasons. You may be learning the wrong syntax. It's most likely not worth it to support IE 6, to attempt to use really common asthetics in your code, nor your company switch from supported browsers to IE only. The scenario I am asking about is if an alternate implementation works better on all the other browsers that you support. Most of the issues I\n"
          ]
        }
      ],
      "source": [
        "response = generate_response(\"how is my code\",\"davinci-002\")\n",
        "print(response)"
      ]
    }
  ],
  "metadata": {
    "colab": {
      "machine_shape": "hm",
      "provenance": []
    },
    "kernelspec": {
      "display_name": "Python 3",
      "name": "python3"
    },
    "language_info": {
      "codemirror_mode": {
        "name": "ipython",
        "version": 3
      },
      "file_extension": ".py",
      "mimetype": "text/x-python",
      "name": "python",
      "nbconvert_exporter": "python",
      "pygments_lexer": "ipython3",
      "version": "3.8.12"
    }
  },
  "nbformat": 4,
  "nbformat_minor": 5
}
