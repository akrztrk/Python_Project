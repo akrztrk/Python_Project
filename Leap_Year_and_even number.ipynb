{
 "cells": [
  {
   "cell_type": "markdown",
   "source": [
    "Odd and Even"
   ],
   "metadata": {
    "collapsed": false,
    "pycharm": {
     "name": "#%% md\n"
    }
   }
  },
  {
   "cell_type": "code",
   "execution_count": null,
   "outputs": [],
   "source": [
    "number = int(input(\"Which number do you want choose\"))\n",
    "if number % 2 == 0:\n",
    "    print(\"This is an even number\")\n",
    "else:\n",
    "    print(\"This is an odd number\")"
   ],
   "metadata": {
    "collapsed": false,
    "pycharm": {
     "name": "#%%\n"
    }
   }
  },
  {
   "cell_type": "markdown",
   "source": [
    "Leap Year"
   ],
   "metadata": {
    "collapsed": false,
    "pycharm": {
     "name": "#%% md\n"
    }
   }
  },
  {
   "cell_type": "code",
   "execution_count": 11,
   "outputs": [
    {
     "name": "stdout",
     "output_type": "stream",
     "text": [
      "Not Leap Year\n"
     ]
    }
   ],
   "source": [
    "year = int(input(\"Which year do you want to check?\"))\n",
    "if year % 4 == 0:\n",
    "    if year % 100 == 0 and year % 400 == 0:\n",
    "        print(\"Leap Year\")\n",
    "    elif year %100 == 0 and year % 400 != 0:\n",
    "        print(\"Not Leap Year\")\n",
    "    else:\n",
    "        print(\"Leap Year\")\n",
    "else:\n",
    "    print(\"Not Leap Year\")"
   ],
   "metadata": {
    "collapsed": false,
    "pycharm": {
     "name": "#%%\n"
    }
   }
  },
  {
   "cell_type": "code",
   "execution_count": 3,
   "outputs": [
    {
     "name": "stdout",
     "output_type": "stream",
     "text": [
      "29\n"
     ]
    }
   ],
   "source": [
    "def is_leap(year):\n",
    "    if year % 4== 0:\n",
    "        if year % 100 == 0:\n",
    "            if year % 400 == 0:\n",
    "                return True\n",
    "            else:\n",
    "                return False\n",
    "        else:\n",
    "            return True\n",
    "    else:\n",
    "        return False\n",
    "\n",
    "def days_in_month(year, month):\n",
    "    month_day = [31, 28, 31, 30, 31, 30, 31, 31, 30, 31, 30, 31]\n",
    "    if is_leap(year) and month == 2:\n",
    "        return 29\n",
    "    return month_day[month - 1]\n",
    "\n",
    "year = int(input(\"Enter a year: \"))\n",
    "month = int(input(\"Enter a month: \"))\n",
    "days = days_in_month(year,month)\n",
    "print(days)"
   ],
   "metadata": {
    "collapsed": false,
    "pycharm": {
     "name": "#%%\n"
    }
   }
  }
 ],
 "metadata": {
  "kernelspec": {
   "display_name": "Python 3",
   "language": "python",
   "name": "python3"
  },
  "language_info": {
   "codemirror_mode": {
    "name": "ipython",
    "version": 2
   },
   "file_extension": ".py",
   "mimetype": "text/x-python",
   "name": "python",
   "nbconvert_exporter": "python",
   "pygments_lexer": "ipython2",
   "version": "2.7.6"
  }
 },
 "nbformat": 4,
 "nbformat_minor": 0
}